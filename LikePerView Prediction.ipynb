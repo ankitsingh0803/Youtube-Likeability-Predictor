{
 "cells": [
  {
   "cell_type": "markdown",
   "metadata": {
    "collapsed": true
   },
   "source": [
    "# REFERENCES:\n",
    "    https://towardsdatascience.com/youtube-views-predictor-9ec573090acb\n",
    "    https://github.com/allenwang28/YouTube-Virality-Predictor/blob/master/notebooks/Data%20Exploration%20-%20Time%20Based.ipynb:     blocks 30,34,35,36,37,40,41,42,43"
   ]
  },
  {
   "cell_type": "code",
   "execution_count": 1,
   "metadata": {
    "collapsed": true
   },
   "outputs": [],
   "source": [
    "import pandas as pd\n",
    "import numpy as np\n",
    "import matplotlib as mpl\n",
    "import matplotlib.pyplot as plt\n",
    "import seaborn as sns\n",
    "\n",
    "% matplotlib inline"
   ]
  },
  {
   "cell_type": "code",
   "execution_count": 2,
   "metadata": {
    "collapsed": true
   },
   "outputs": [],
   "source": [
    "#Read excel\n",
    "df = pd.read_excel('D:/knowledge/college docs/DSP/Project2/FinalVideoListCommentPrevInfo_1.xlsx')"
   ]
  },
  {
   "cell_type": "code",
   "execution_count": 3,
   "metadata": {},
   "outputs": [
    {
     "data": {
      "text/html": [
       "<div>\n",
       "<style>\n",
       "    .dataframe thead tr:only-child th {\n",
       "        text-align: right;\n",
       "    }\n",
       "\n",
       "    .dataframe thead th {\n",
       "        text-align: left;\n",
       "    }\n",
       "\n",
       "    .dataframe tbody tr th {\n",
       "        vertical-align: top;\n",
       "    }\n",
       "</style>\n",
       "<table border=\"1\" class=\"dataframe\">\n",
       "  <thead>\n",
       "    <tr style=\"text-align: right;\">\n",
       "      <th></th>\n",
       "      <th>CategoryID</th>\n",
       "      <th>CHViewCount</th>\n",
       "      <th>CHSubscriberCount</th>\n",
       "      <th>CHAge</th>\n",
       "      <th>CHVideoCount</th>\n",
       "      <th>Duration</th>\n",
       "      <th>ViewCount</th>\n",
       "      <th>LikeCount</th>\n",
       "      <th>DislikeCount</th>\n",
       "      <th>FavouriteCount</th>\n",
       "      <th>...</th>\n",
       "      <th>Comm_count_ng2</th>\n",
       "      <th>Comm_count_n2</th>\n",
       "      <th>Comm_count_p7</th>\n",
       "      <th>Comm_count_ng7</th>\n",
       "      <th>Comm_count_n7</th>\n",
       "      <th>PView</th>\n",
       "      <th>PLike</th>\n",
       "      <th>PComments</th>\n",
       "      <th>PDislike</th>\n",
       "      <th>PFavorite</th>\n",
       "    </tr>\n",
       "  </thead>\n",
       "  <tbody>\n",
       "    <tr>\n",
       "      <th>count</th>\n",
       "      <td>3405.000000</td>\n",
       "      <td>3.405000e+03</td>\n",
       "      <td>3.405000e+03</td>\n",
       "      <td>3405.000000</td>\n",
       "      <td>3405.000000</td>\n",
       "      <td>3405.000000</td>\n",
       "      <td>3.405000e+03</td>\n",
       "      <td>3405.000000</td>\n",
       "      <td>3405.000000</td>\n",
       "      <td>3405.0</td>\n",
       "      <td>...</td>\n",
       "      <td>3405.000000</td>\n",
       "      <td>3405.000000</td>\n",
       "      <td>3405.000000</td>\n",
       "      <td>3405.000000</td>\n",
       "      <td>3405.000000</td>\n",
       "      <td>3.405000e+03</td>\n",
       "      <td>3405.000000</td>\n",
       "      <td>3405.000000</td>\n",
       "      <td>3405.000000</td>\n",
       "      <td>3405.0</td>\n",
       "    </tr>\n",
       "    <tr>\n",
       "      <th>mean</th>\n",
       "      <td>22.780029</td>\n",
       "      <td>1.209259e+08</td>\n",
       "      <td>7.275229e+05</td>\n",
       "      <td>506.190015</td>\n",
       "      <td>253.250514</td>\n",
       "      <td>540.780617</td>\n",
       "      <td>2.320542e+05</td>\n",
       "      <td>4178.070485</td>\n",
       "      <td>187.382673</td>\n",
       "      <td>0.0</td>\n",
       "      <td>...</td>\n",
       "      <td>0.330690</td>\n",
       "      <td>0.942731</td>\n",
       "      <td>2.746843</td>\n",
       "      <td>0.470778</td>\n",
       "      <td>1.343906</td>\n",
       "      <td>2.307779e+05</td>\n",
       "      <td>4132.976211</td>\n",
       "      <td>473.560940</td>\n",
       "      <td>184.938620</td>\n",
       "      <td>0.0</td>\n",
       "    </tr>\n",
       "    <tr>\n",
       "      <th>std</th>\n",
       "      <td>4.533666</td>\n",
       "      <td>2.362366e+08</td>\n",
       "      <td>1.425873e+06</td>\n",
       "      <td>742.769687</td>\n",
       "      <td>167.003373</td>\n",
       "      <td>1277.610758</td>\n",
       "      <td>9.966875e+05</td>\n",
       "      <td>14244.568294</td>\n",
       "      <td>877.599342</td>\n",
       "      <td>0.0</td>\n",
       "      <td>...</td>\n",
       "      <td>0.893843</td>\n",
       "      <td>1.826962</td>\n",
       "      <td>3.929377</td>\n",
       "      <td>1.103933</td>\n",
       "      <td>2.296109</td>\n",
       "      <td>9.967308e+05</td>\n",
       "      <td>14233.156770</td>\n",
       "      <td>1851.352609</td>\n",
       "      <td>876.333031</td>\n",
       "      <td>0.0</td>\n",
       "    </tr>\n",
       "    <tr>\n",
       "      <th>min</th>\n",
       "      <td>1.000000</td>\n",
       "      <td>3.386900e+04</td>\n",
       "      <td>0.000000e+00</td>\n",
       "      <td>16.000000</td>\n",
       "      <td>16.000000</td>\n",
       "      <td>7.000000</td>\n",
       "      <td>0.000000e+00</td>\n",
       "      <td>0.000000</td>\n",
       "      <td>0.000000</td>\n",
       "      <td>0.0</td>\n",
       "      <td>...</td>\n",
       "      <td>0.000000</td>\n",
       "      <td>0.000000</td>\n",
       "      <td>0.000000</td>\n",
       "      <td>0.000000</td>\n",
       "      <td>0.000000</td>\n",
       "      <td>0.000000e+00</td>\n",
       "      <td>0.000000</td>\n",
       "      <td>0.000000</td>\n",
       "      <td>0.000000</td>\n",
       "      <td>0.0</td>\n",
       "    </tr>\n",
       "    <tr>\n",
       "      <th>25%</th>\n",
       "      <td>22.000000</td>\n",
       "      <td>2.565808e+06</td>\n",
       "      <td>1.483800e+04</td>\n",
       "      <td>134.000000</td>\n",
       "      <td>118.000000</td>\n",
       "      <td>216.000000</td>\n",
       "      <td>1.932000e+03</td>\n",
       "      <td>29.000000</td>\n",
       "      <td>1.000000</td>\n",
       "      <td>0.0</td>\n",
       "      <td>...</td>\n",
       "      <td>0.000000</td>\n",
       "      <td>0.000000</td>\n",
       "      <td>0.000000</td>\n",
       "      <td>0.000000</td>\n",
       "      <td>0.000000</td>\n",
       "      <td>1.604000e+03</td>\n",
       "      <td>27.000000</td>\n",
       "      <td>4.000000</td>\n",
       "      <td>1.000000</td>\n",
       "      <td>0.0</td>\n",
       "    </tr>\n",
       "    <tr>\n",
       "      <th>50%</th>\n",
       "      <td>24.000000</td>\n",
       "      <td>1.536434e+07</td>\n",
       "      <td>5.994500e+04</td>\n",
       "      <td>265.000000</td>\n",
       "      <td>216.000000</td>\n",
       "      <td>387.000000</td>\n",
       "      <td>1.383400e+04</td>\n",
       "      <td>197.000000</td>\n",
       "      <td>12.000000</td>\n",
       "      <td>0.0</td>\n",
       "      <td>...</td>\n",
       "      <td>0.000000</td>\n",
       "      <td>0.000000</td>\n",
       "      <td>1.000000</td>\n",
       "      <td>0.000000</td>\n",
       "      <td>0.000000</td>\n",
       "      <td>1.301000e+04</td>\n",
       "      <td>184.000000</td>\n",
       "      <td>35.000000</td>\n",
       "      <td>11.000000</td>\n",
       "      <td>0.0</td>\n",
       "    </tr>\n",
       "    <tr>\n",
       "      <th>75%</th>\n",
       "      <td>26.000000</td>\n",
       "      <td>1.469566e+08</td>\n",
       "      <td>8.863590e+05</td>\n",
       "      <td>513.000000</td>\n",
       "      <td>345.000000</td>\n",
       "      <td>651.000000</td>\n",
       "      <td>1.119210e+05</td>\n",
       "      <td>2447.000000</td>\n",
       "      <td>85.000000</td>\n",
       "      <td>0.0</td>\n",
       "      <td>...</td>\n",
       "      <td>0.000000</td>\n",
       "      <td>1.000000</td>\n",
       "      <td>4.000000</td>\n",
       "      <td>0.000000</td>\n",
       "      <td>2.000000</td>\n",
       "      <td>1.105130e+05</td>\n",
       "      <td>2360.000000</td>\n",
       "      <td>233.000000</td>\n",
       "      <td>82.000000</td>\n",
       "      <td>0.0</td>\n",
       "    </tr>\n",
       "    <tr>\n",
       "      <th>max</th>\n",
       "      <td>29.000000</td>\n",
       "      <td>1.277878e+09</td>\n",
       "      <td>7.034479e+06</td>\n",
       "      <td>5101.000000</td>\n",
       "      <td>629.000000</td>\n",
       "      <td>40819.000000</td>\n",
       "      <td>3.404457e+07</td>\n",
       "      <td>239376.000000</td>\n",
       "      <td>30144.000000</td>\n",
       "      <td>0.0</td>\n",
       "      <td>...</td>\n",
       "      <td>10.000000</td>\n",
       "      <td>13.000000</td>\n",
       "      <td>20.000000</td>\n",
       "      <td>11.000000</td>\n",
       "      <td>13.000000</td>\n",
       "      <td>3.404457e+07</td>\n",
       "      <td>239376.000000</td>\n",
       "      <td>36166.000000</td>\n",
       "      <td>30144.000000</td>\n",
       "      <td>0.0</td>\n",
       "    </tr>\n",
       "  </tbody>\n",
       "</table>\n",
       "<p>8 rows × 22 columns</p>\n",
       "</div>"
      ],
      "text/plain": [
       "        CategoryID   CHViewCount  CHSubscriberCount        CHAge  \\\n",
       "count  3405.000000  3.405000e+03       3.405000e+03  3405.000000   \n",
       "mean     22.780029  1.209259e+08       7.275229e+05   506.190015   \n",
       "std       4.533666  2.362366e+08       1.425873e+06   742.769687   \n",
       "min       1.000000  3.386900e+04       0.000000e+00    16.000000   \n",
       "25%      22.000000  2.565808e+06       1.483800e+04   134.000000   \n",
       "50%      24.000000  1.536434e+07       5.994500e+04   265.000000   \n",
       "75%      26.000000  1.469566e+08       8.863590e+05   513.000000   \n",
       "max      29.000000  1.277878e+09       7.034479e+06  5101.000000   \n",
       "\n",
       "       CHVideoCount      Duration     ViewCount      LikeCount  DislikeCount  \\\n",
       "count   3405.000000   3405.000000  3.405000e+03    3405.000000   3405.000000   \n",
       "mean     253.250514    540.780617  2.320542e+05    4178.070485    187.382673   \n",
       "std      167.003373   1277.610758  9.966875e+05   14244.568294    877.599342   \n",
       "min       16.000000      7.000000  0.000000e+00       0.000000      0.000000   \n",
       "25%      118.000000    216.000000  1.932000e+03      29.000000      1.000000   \n",
       "50%      216.000000    387.000000  1.383400e+04     197.000000     12.000000   \n",
       "75%      345.000000    651.000000  1.119210e+05    2447.000000     85.000000   \n",
       "max      629.000000  40819.000000  3.404457e+07  239376.000000  30144.000000   \n",
       "\n",
       "       FavouriteCount    ...      Comm_count_ng2  Comm_count_n2  \\\n",
       "count          3405.0    ...         3405.000000    3405.000000   \n",
       "mean              0.0    ...            0.330690       0.942731   \n",
       "std               0.0    ...            0.893843       1.826962   \n",
       "min               0.0    ...            0.000000       0.000000   \n",
       "25%               0.0    ...            0.000000       0.000000   \n",
       "50%               0.0    ...            0.000000       0.000000   \n",
       "75%               0.0    ...            0.000000       1.000000   \n",
       "max               0.0    ...           10.000000      13.000000   \n",
       "\n",
       "       Comm_count_p7  Comm_count_ng7  Comm_count_n7         PView  \\\n",
       "count    3405.000000     3405.000000    3405.000000  3.405000e+03   \n",
       "mean        2.746843        0.470778       1.343906  2.307779e+05   \n",
       "std         3.929377        1.103933       2.296109  9.967308e+05   \n",
       "min         0.000000        0.000000       0.000000  0.000000e+00   \n",
       "25%         0.000000        0.000000       0.000000  1.604000e+03   \n",
       "50%         1.000000        0.000000       0.000000  1.301000e+04   \n",
       "75%         4.000000        0.000000       2.000000  1.105130e+05   \n",
       "max        20.000000       11.000000      13.000000  3.404457e+07   \n",
       "\n",
       "               PLike     PComments      PDislike  PFavorite  \n",
       "count    3405.000000   3405.000000   3405.000000     3405.0  \n",
       "mean     4132.976211    473.560940    184.938620        0.0  \n",
       "std     14233.156770   1851.352609    876.333031        0.0  \n",
       "min         0.000000      0.000000      0.000000        0.0  \n",
       "25%        27.000000      4.000000      1.000000        0.0  \n",
       "50%       184.000000     35.000000     11.000000        0.0  \n",
       "75%      2360.000000    233.000000     82.000000        0.0  \n",
       "max    239376.000000  36166.000000  30144.000000        0.0  \n",
       "\n",
       "[8 rows x 22 columns]"
      ]
     },
     "execution_count": 3,
     "metadata": {},
     "output_type": "execute_result"
    }
   ],
   "source": [
    "df.describe()"
   ]
  },
  {
   "cell_type": "code",
   "execution_count": 4,
   "metadata": {
    "collapsed": true
   },
   "outputs": [],
   "source": [
    "uniqueCategoryID = list(set(df['CategoryID'].tolist()))"
   ]
  },
  {
   "cell_type": "code",
   "execution_count": 5,
   "metadata": {},
   "outputs": [
    {
     "data": {
      "text/plain": [
       "[1, 2, 10, 17, 19, 22, 23, 24, 25, 26, 27, 28, 29]"
      ]
     },
     "execution_count": 5,
     "metadata": {},
     "output_type": "execute_result"
    }
   ],
   "source": [
    "uniqueCategoryID"
   ]
  },
  {
   "cell_type": "markdown",
   "metadata": {},
   "source": [
    "# Feature Engineering and Removing potential Outliers"
   ]
  },
  {
   "cell_type": "code",
   "execution_count": 6,
   "metadata": {
    "collapsed": true
   },
   "outputs": [],
   "source": [
    "from datetime import datetime\n",
    "from dateutil.parser import parse\n",
    "\n",
    "def convert_to_days(dt):\n",
    "    d=parse(dt)\n",
    "    a=d.strftime('%m/%d/%Y')\n",
    "    x=datetime.strptime(a, '%m/%d/%Y').date()\n",
    "    y=datetime.now().date()\n",
    "    days=((y-x).days)\n",
    "    return days"
   ]
  },
  {
   "cell_type": "code",
   "execution_count": 7,
   "metadata": {},
   "outputs": [],
   "source": [
    "AgeVideo = []\n",
    "for i in df['PublishedDate']:\n",
    "    AgeVideo.append(convert_to_days(str(i)))\n",
    "    \n",
    "df['AgeVideo'] = AgeVideo"
   ]
  },
  {
   "cell_type": "code",
   "execution_count": 8,
   "metadata": {},
   "outputs": [
    {
     "data": {
      "text/plain": [
       "3058"
      ]
     },
     "execution_count": 8,
     "metadata": {},
     "output_type": "execute_result"
    }
   ],
   "source": [
    "df['AgeVideo'][df['AgeVideo']<700].count()"
   ]
  },
  {
   "cell_type": "code",
   "execution_count": 9,
   "metadata": {},
   "outputs": [
    {
     "data": {
      "text/plain": [
       "2786"
      ]
     },
     "execution_count": 9,
     "metadata": {},
     "output_type": "execute_result"
    }
   ],
   "source": [
    "df['AgeVideo'][df['AgeVideo']>30].count()"
   ]
  },
  {
   "cell_type": "code",
   "execution_count": 10,
   "metadata": {
    "collapsed": true
   },
   "outputs": [],
   "source": [
    "df = df[df['AgeVideo']>30]"
   ]
  },
  {
   "cell_type": "code",
   "execution_count": 11,
   "metadata": {
    "collapsed": true
   },
   "outputs": [],
   "source": [
    "df = df[df['AgeVideo']<700]"
   ]
  },
  {
   "cell_type": "code",
   "execution_count": 12,
   "metadata": {},
   "outputs": [
    {
     "data": {
      "text/plain": [
       "(2439, 33)"
      ]
     },
     "execution_count": 12,
     "metadata": {},
     "output_type": "execute_result"
    }
   ],
   "source": [
    "df.shape"
   ]
  },
  {
   "cell_type": "code",
   "execution_count": 13,
   "metadata": {},
   "outputs": [
    {
     "data": {
      "text/plain": [
       "692"
      ]
     },
     "execution_count": 13,
     "metadata": {},
     "output_type": "execute_result"
    }
   ],
   "source": [
    "df['ViewCount'][df['ViewCount']>100000].count()"
   ]
  },
  {
   "cell_type": "code",
   "execution_count": 14,
   "metadata": {
    "collapsed": true
   },
   "outputs": [],
   "source": [
    "df = df[df['ViewCount']<100000]"
   ]
  },
  {
   "cell_type": "code",
   "execution_count": 15,
   "metadata": {},
   "outputs": [
    {
     "data": {
      "text/plain": [
       "(1747, 33)"
      ]
     },
     "execution_count": 15,
     "metadata": {},
     "output_type": "execute_result"
    }
   ],
   "source": [
    "df.shape"
   ]
  },
  {
   "cell_type": "code",
   "execution_count": 16,
   "metadata": {},
   "outputs": [
    {
     "data": {
      "text/plain": [
       "0"
      ]
     },
     "execution_count": 16,
     "metadata": {},
     "output_type": "execute_result"
    }
   ],
   "source": [
    "df['ViewCount'][df['ViewCount']==0].count()"
   ]
  },
  {
   "cell_type": "code",
   "execution_count": 17,
   "metadata": {
    "collapsed": true
   },
   "outputs": [],
   "source": [
    "df = df[df['ViewCount']!=0]"
   ]
  },
  {
   "cell_type": "code",
   "execution_count": 18,
   "metadata": {
    "collapsed": true
   },
   "outputs": [],
   "source": [
    "df[\"Like/View\"]=df['LikeCount'] / df['ViewCount'].astype(np.float)*100"
   ]
  },
  {
   "cell_type": "code",
   "execution_count": 19,
   "metadata": {
    "scrolled": true
   },
   "outputs": [
    {
     "data": {
      "text/plain": [
       "0     1.842351\n",
       "1     2.821012\n",
       "2     2.840761\n",
       "3     7.848444\n",
       "4     5.876951\n",
       "5     4.654443\n",
       "6     2.841391\n",
       "7     1.800847\n",
       "8     2.011173\n",
       "9     2.834908\n",
       "10    1.494963\n",
       "11    1.507301\n",
       "0     2.492560\n",
       "1     1.926101\n",
       "2     2.176221\n",
       "3     1.951220\n",
       "4     1.902950\n",
       "5     1.715955\n",
       "6     1.774194\n",
       "7     3.131991\n",
       "8     4.189944\n",
       "9     2.279874\n",
       "10    3.111495\n",
       "11    2.323126\n",
       "12    3.052065\n",
       "13    3.247373\n",
       "14    2.328431\n",
       "15    1.551189\n",
       "16    2.821317\n",
       "17    2.973978\n",
       "        ...   \n",
       "33    2.784396\n",
       "35    3.293713\n",
       "36    3.826261\n",
       "37    2.467415\n",
       "38    3.857774\n",
       "39    3.573563\n",
       "41    3.810725\n",
       "42    3.161703\n",
       "43    3.161703\n",
       "44    3.161703\n",
       "45    3.161703\n",
       "46    3.161703\n",
       "47    3.161703\n",
       "48    3.161703\n",
       "49    3.161703\n",
       "50    3.161703\n",
       "51    3.161703\n",
       "52    3.161703\n",
       "53    3.161703\n",
       "54    3.161703\n",
       "55    3.161703\n",
       "56    3.161703\n",
       "57    3.161703\n",
       "58    3.161703\n",
       "59    2.959281\n",
       "60    2.275305\n",
       "61    3.990833\n",
       "62    3.434431\n",
       "63    4.178505\n",
       "64    3.572845\n",
       "Name: Like/View, Length: 1747, dtype: float64"
      ]
     },
     "execution_count": 19,
     "metadata": {},
     "output_type": "execute_result"
    }
   ],
   "source": [
    "df[\"Like/View\"]"
   ]
  },
  {
   "cell_type": "code",
   "execution_count": 20,
   "metadata": {},
   "outputs": [
    {
     "data": {
      "image/png": "[encoded data removed]",
      "text/plain": [
       "<matplotlib.figure.Figure at 0x234f07fb940>"
      ]
     },
     "metadata": {},
     "output_type": "display_data"
    }
   ],
   "source": [
    "df[\"Like/View\"].hist()\n",
    "plt.show()"
   ]
  },
  {
   "cell_type": "code",
   "execution_count": 21,
   "metadata": {},
   "outputs": [
    {
     "data": {
      "text/plain": [
       "80"
      ]
     },
     "execution_count": 21,
     "metadata": {},
     "output_type": "execute_result"
    }
   ],
   "source": [
    "df['Like/View'][df['Like/View']==0].count()"
   ]
  },
  {
   "cell_type": "code",
   "execution_count": 22,
   "metadata": {
    "collapsed": true
   },
   "outputs": [],
   "source": [
    "df = df[df['Like/View']>0]"
   ]
  },
  {
   "cell_type": "code",
   "execution_count": 23,
   "metadata": {},
   "outputs": [
    {
     "data": {
      "text/plain": [
       "<matplotlib.axes._subplots.AxesSubplot at 0x234f06e7940>"
      ]
     },
     "execution_count": 23,
     "metadata": {},
     "output_type": "execute_result"
    },
    {
     "data": {
      "image/png": "[encoded data removed]",
      "text/plain": [
       "<matplotlib.figure.Figure at 0x234f07d0358>"
      ]
     },
     "metadata": {},
     "output_type": "display_data"
    }
   ],
   "source": [
    "df['Like/View'].apply(np.log).hist()"
   ]
  },
  {
   "cell_type": "code",
   "execution_count": 24,
   "metadata": {},
   "outputs": [],
   "source": [
    "df['Like/View']=df['Like/View'].apply(np.log)"
   ]
  },
  {
   "cell_type": "code",
   "execution_count": 25,
   "metadata": {},
   "outputs": [
    {
     "data": {
      "text/plain": [
       "<matplotlib.axes._subplots.AxesSubplot at 0x234f079ba90>"
      ]
     },
     "execution_count": 25,
     "metadata": {},
     "output_type": "execute_result"
    },
    {
     "data": {
      "image/png": "[encoded data removed]",
      "text/plain": [
       "<matplotlib.figure.Figure at 0x234f079b240>"
      ]
     },
     "metadata": {},
     "output_type": "display_data"
    }
   ],
   "source": [
    "df['Like/View'].hist()"
   ]
  },
  {
   "cell_type": "markdown",
   "metadata": {},
   "source": [
    "# Models"
   ]
  },
  {
   "cell_type": "markdown",
   "metadata": {},
   "source": [
    "# 1. GradientBoostingRegressor"
   ]
  },
  {
   "cell_type": "markdown",
   "metadata": {},
   "source": [
    "Features include count of sentiment after 2 days of video being published"
   ]
  },
  {
   "cell_type": "code",
   "execution_count": 26,
   "metadata": {
    "collapsed": true
   },
   "outputs": [],
   "source": [
    "from sklearn.ensemble import GradientBoostingRegressor\n",
    "from sklearn.model_selection import train_test_split\n",
    "from sklearn.utils import shuffle\n",
    "from sklearn.metrics import mean_squared_error\n",
    "#from sklearn.preprocessing import MinMaxScaler"
   ]
  },
  {
   "cell_type": "code",
   "execution_count": 27,
   "metadata": {
    "collapsed": true
   },
   "outputs": [],
   "source": [
    "gbrcolumns = ['CHSubscriberCount', 'CHVideoCount', 'CHViewCount','CHAge','PComments', 'PLike','Duration',\n",
    "            'Comm_count_p2','AgeVideo']\n",
    "X_dfgrb = df[gbrcolumns]\n",
    "y_dfgrb = df['Like/View']"
   ]
  },
  {
   "cell_type": "code",
   "execution_count": 28,
   "metadata": {},
   "outputs": [
    {
     "data": {
      "text/plain": [
       "GradientBoostingRegressor(alpha=0.9, criterion='friedman_mse', init=None,\n",
       "             learning_rate=0.01, loss='ls', max_depth=4, max_features=None,\n",
       "             max_leaf_nodes=None, min_impurity_split=1e-07,\n",
       "             min_samples_leaf=1, min_samples_split=2,\n",
       "             min_weight_fraction_leaf=0.0, n_estimators=1000,\n",
       "             presort='auto', random_state=42, subsample=1.0, verbose=0,\n",
       "             warm_start=False)"
      ]
     },
     "execution_count": 28,
     "metadata": {},
     "output_type": "execute_result"
    }
   ],
   "source": [
    "X_train, X_test, y_train, y_test = train_test_split(X_dfgrb, y_dfgrb, test_size=0.3)\n",
    "\n",
    "params = {'n_estimators': 1000, 'max_depth': 4, 'min_samples_split': 2,\n",
    "          'learning_rate': 0.01, 'loss': 'ls','random_state':42 }\n",
    "grbreg = GradientBoostingRegressor(**params)\n",
    "grbreg.fit(X_train, y_train)\n",
    "#print(\"R^2: {0}\").format(reg.score(X_test, y_test))"
   ]
  },
  {
   "cell_type": "code",
   "execution_count": 29,
   "metadata": {},
   "outputs": [
    {
     "data": {
      "text/plain": [
       "0.74603607875623834"
      ]
     },
     "execution_count": 29,
     "metadata": {},
     "output_type": "execute_result"
    }
   ],
   "source": [
    "grbreg.score(X_test, y_test)"
   ]
  },
  {
   "cell_type": "code",
   "execution_count": 30,
   "metadata": {},
   "outputs": [
    {
     "name": "stdout",
     "output_type": "stream",
     "text": [
      "MSE: 0.2294\n"
     ]
    }
   ],
   "source": [
    "mse = mean_squared_error(y_test, grbreg.predict(X_test))\n",
    "print(\"MSE: %.4f\" % mse)"
   ]
  },
  {
   "cell_type": "markdown",
   "metadata": {},
   "source": [
    "Features include count of sentiment after 7 days of video being published"
   ]
  },
  {
   "cell_type": "code",
   "execution_count": 31,
   "metadata": {
    "collapsed": true
   },
   "outputs": [],
   "source": [
    "gbrcolumns7 = ['CHSubscriberCount', 'CHVideoCount', 'CHViewCount','CHAge','PComments', 'PDislike', 'PLike', 'PView','Duration',\n",
    "            'Comm_count_p7','AgeVideo']\n",
    "X_dfgrb7 = df[gbrcolumns7]\n",
    "y_dfgrb7 = df['Like/View']"
   ]
  },
  {
   "cell_type": "code",
   "execution_count": 32,
   "metadata": {},
   "outputs": [
    {
     "data": {
      "text/plain": [
       "GradientBoostingRegressor(alpha=0.9, criterion='friedman_mse', init=None,\n",
       "             learning_rate=0.01, loss='ls', max_depth=4, max_features=None,\n",
       "             max_leaf_nodes=None, min_impurity_split=1e-07,\n",
       "             min_samples_leaf=1, min_samples_split=2,\n",
       "             min_weight_fraction_leaf=0.0, n_estimators=1000,\n",
       "             presort='auto', random_state=42, subsample=1.0, verbose=0,\n",
       "             warm_start=False)"
      ]
     },
     "execution_count": 32,
     "metadata": {},
     "output_type": "execute_result"
    }
   ],
   "source": [
    "X_train, X_test, y_train, y_test = train_test_split(X_dfgrb7, y_dfgrb7, test_size=0.3)\n",
    "params = {'n_estimators': 1000, 'max_depth': 4, 'min_samples_split': 2,\n",
    "          'learning_rate': 0.01, 'loss': 'ls','random_state':42 }    \n",
    "grb7reg = GradientBoostingRegressor(**params)\n",
    "grb7reg.fit(X_train, y_train)\n",
    "#print(\"R^2: {0}\").format(reg.score(X_test, y_test))"
   ]
  },
  {
   "cell_type": "code",
   "execution_count": 33,
   "metadata": {},
   "outputs": [
    {
     "data": {
      "text/plain": [
       "0.8131519657776789"
      ]
     },
     "execution_count": 33,
     "metadata": {},
     "output_type": "execute_result"
    }
   ],
   "source": [
    "grb7reg.score(X_test, y_test)"
   ]
  },
  {
   "cell_type": "code",
   "execution_count": 34,
   "metadata": {},
   "outputs": [
    {
     "name": "stdout",
     "output_type": "stream",
     "text": [
      "MSE: 0.2058\n"
     ]
    }
   ],
   "source": [
    "mse = mean_squared_error(y_test, grb7reg.predict(X_test))\n",
    "print(\"MSE: %.4f\" % mse)"
   ]
  },
  {
   "cell_type": "code",
   "execution_count": 35,
   "metadata": {},
   "outputs": [
    {
     "data": {
      "text/plain": [
       "<matplotlib.axes._subplots.AxesSubplot at 0x234f048c208>"
      ]
     },
     "execution_count": 35,
     "metadata": {},
     "output_type": "execute_result"
    },
    {
     "data": {
      "image/png": "[encoded data removed]",
      "text/plain": [
       "<matplotlib.figure.Figure at 0x234f0469d30>"
      ]
     },
     "metadata": {},
     "output_type": "display_data"
    }
   ],
   "source": [
    "y_predgrb = grb7reg.predict(X_test)\n",
    "residuals = y_predgrb - y_test\n",
    "\n",
    "sns.distplot(residuals)"
   ]
  },
  {
   "cell_type": "code",
   "execution_count": 36,
   "metadata": {},
   "outputs": [
    {
     "data": {
      "text/plain": [
       "<matplotlib.axes._subplots.AxesSubplot at 0x234f03feb38>"
      ]
     },
     "execution_count": 36,
     "metadata": {},
     "output_type": "execute_result"
    },
    {
     "data": {
      "image/png": "[encoded data removed]",
      "text/plain": [
       "<matplotlib.figure.Figure at 0x234f02c2358>"
      ]
     },
     "metadata": {},
     "output_type": "display_data"
    }
   ],
   "source": [
    "plot_df = pd.DataFrame(y_predgrb, columns=['Predictions'])\n",
    "plot_df['True'] = np.array(y_test)\n",
    "sns.regplot(x='Predictions', y='True', data=plot_df)"
   ]
  },
  {
   "cell_type": "code",
   "execution_count": 37,
   "metadata": {},
   "outputs": [
    {
     "data": {
      "text/plain": [
       "<matplotlib.axes._subplots.AxesSubplot at 0x234f0ca89e8>"
      ]
     },
     "execution_count": 37,
     "metadata": {},
     "output_type": "execute_result"
    },
    {
     "data": {
      "image/png": "[encoded data removed]",
      "text/plain": [
       "<matplotlib.figure.Figure at 0x234f0ca8ac8>"
      ]
     },
     "metadata": {},
     "output_type": "display_data"
    }
   ],
   "source": [
    "sns.set_style('whitegrid')\n",
    "plt.figure(figsize=(10,12))\n",
    "sns.barplot(x=grb7reg.feature_importances_, y=gbrcolumns7)"
   ]
  },
  {
   "cell_type": "markdown",
   "metadata": {},
   "source": [
    "# XGBRegressor Model"
   ]
  },
  {
   "cell_type": "code",
   "execution_count": 38,
   "metadata": {},
   "outputs": [
    {
     "name": "stderr",
     "output_type": "stream",
     "text": [
      "C:\\Users\\AdrianFcBarcelona\\Anaconda3\\lib\\site-packages\\sklearn\\cross_validation.py:44: DeprecationWarning: This module was deprecated in version 0.18 in favor of the model_selection module into which all the refactored classes and functions are moved. Also note that the interface of the new CV iterators are different from that of this module. This module will be removed in 0.20.\n",
      "  \"This module will be removed in 0.20.\", DeprecationWarning)\n"
     ]
    }
   ],
   "source": [
    "from xgboost import XGBRegressor"
   ]
  },
  {
   "cell_type": "code",
   "execution_count": 39,
   "metadata": {},
   "outputs": [
    {
     "data": {
      "text/plain": [
       "0.8037505758566974"
      ]
     },
     "execution_count": 39,
     "metadata": {},
     "output_type": "execute_result"
    }
   ],
   "source": [
    "xgb = XGBRegressor()\n",
    "\n",
    "xgb.fit(X_train, y_train)\n",
    "xgb.score(X_test, y_test)"
   ]
  },
  {
   "cell_type": "code",
   "execution_count": 40,
   "metadata": {},
   "outputs": [
    {
     "data": {
      "text/plain": [
       "<matplotlib.axes._subplots.AxesSubplot at 0x234f0de0a58>"
      ]
     },
     "execution_count": 40,
     "metadata": {},
     "output_type": "execute_result"
    },
    {
     "data": {
      "image/png": "[encoded data removed]",
      "text/plain": [
       "<matplotlib.figure.Figure at 0x234f0de0128>"
      ]
     },
     "metadata": {},
     "output_type": "display_data"
    }
   ],
   "source": [
    "y_pred = xgb.predict(X_test)\n",
    "plot_df = pd.DataFrame(y_pred, columns=['Predictions'])\n",
    "plot_df['True'] = np.array(y_test)\n",
    "sns.regplot(x='Predictions', y='True', data=plot_df)"
   ]
  },
  {
   "cell_type": "code",
   "execution_count": 41,
   "metadata": {},
   "outputs": [
    {
     "data": {
      "text/plain": [
       "<matplotlib.axes._subplots.AxesSubplot at 0x234f0c84f28>"
      ]
     },
     "execution_count": 41,
     "metadata": {},
     "output_type": "execute_result"
    },
    {
     "data": {
      "image/png": "[encoded data removed]",
      "text/plain": [
       "<matplotlib.figure.Figure at 0x234f0dd5748>"
      ]
     },
     "metadata": {},
     "output_type": "display_data"
    }
   ],
   "source": [
    "residuals = y_pred - y_test\n",
    "\n",
    "sns.distplot(residuals)"
   ]
  },
  {
   "cell_type": "code",
   "execution_count": 42,
   "metadata": {},
   "outputs": [
    {
     "name": "stdout",
     "output_type": "stream",
     "text": [
      "MSE: 0.2162\n"
     ]
    }
   ],
   "source": [
    "mse = mean_squared_error(y_test, xgb.predict(X_test))\n",
    "print(\"MSE: %.4f\" % mse)"
   ]
  },
  {
   "cell_type": "code",
   "execution_count": 43,
   "metadata": {},
   "outputs": [
    {
     "name": "stdout",
     "output_type": "stream",
     "text": [
      "0.9225043881826668 +- 0.018171298164885594\n"
     ]
    }
   ],
   "source": [
    "from sklearn.model_selection import cross_val_score\n",
    "cv1 = cross_val_score(GradientBoostingRegressor(), X_dfgrb, y_dfgrb, scoring='neg_mean_squared_error')\n",
    "cv1 = np.sqrt(-cv1)\n",
    "print(\"{0} +- {1}\".format(cv1.mean(), cv1.var()))"
   ]
  },
  {
   "cell_type": "code",
   "execution_count": null,
   "metadata": {
    "collapsed": true
   },
   "outputs": [],
   "source": []
  }
 ],
 "metadata": {
  "kernelspec": {
   "display_name": "Python 3",
   "language": "python",
   "name": "python3"
  },
  "language_info": {
   "codemirror_mode": {
    "name": "ipython",
    "version": 3
   },
   "file_extension": ".py",
   "mimetype": "text/x-python",
   "name": "python",
   "nbconvert_exporter": "python",
   "pygments_lexer": "ipython3",
   "version": "3.6.1"
  }
 },
 "nbformat": 4,
 "nbformat_minor": 2
}
